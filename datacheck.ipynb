{
 "cells": [
  {
   "cell_type": "code",
   "execution_count": 1,
   "metadata": {},
   "outputs": [],
   "source": [
    "import pandas as pd"
   ]
  },
  {
   "cell_type": "code",
   "execution_count": 3,
   "metadata": {},
   "outputs": [],
   "source": [
    "FILE='final_properties.csv'\n",
    "#FILE='svc1.csv'\n",
    "data=pd.read_csv(FILE,low_memory=False)"
   ]
  },
  {
   "cell_type": "code",
   "execution_count": 10,
   "metadata": {},
   "outputs": [
    {
     "data": {
      "text/plain": [
       "url                     object\n",
       "id                       int64\n",
       "price                  float64\n",
       "adress                  object\n",
       "type_of_property        object\n",
       "subtype_of_property     object\n",
       "bedroomCount           float64\n",
       "land_surface           float64\n",
       "kitchen_type            object\n",
       "fireplaceExists          int64\n",
       "hasTerrace             float64\n",
       "terraceSurface         float64\n",
       "hasGarden               object\n",
       "gardenSurface          float64\n",
       "surface_land_area      float64\n",
       "netHabitableSurface    float64\n",
       "facadeCount            float64\n",
       "hasSwimmingPool        float64\n",
       "isnewly_built            int64\n",
       "dtype: object"
      ]
     },
     "execution_count": 10,
     "metadata": {},
     "output_type": "execute_result"
    }
   ],
   "source": [
    "data.dtypes"
   ]
  },
  {
   "cell_type": "code",
   "execution_count": 13,
   "metadata": {},
   "outputs": [
    {
     "name": "stdout",
     "output_type": "stream",
     "text": [
      "HOUSE              5134\n",
      "APARTMENT          4417\n",
      "APARTMENT_GROUP     522\n",
      "HOUSE_GROUP          65\n",
      "Name: type_of_property, dtype: int64\n",
      "2.0      3759\n",
      "3.0      2506\n",
      "1.0      1806\n",
      "4.0       788\n",
      "0.0       382\n",
      "5.0       218\n",
      "6.0        55\n",
      "8.0        13\n",
      "7.0         9\n",
      "9.0         6\n",
      "13.0        3\n",
      "10.0        1\n",
      "333.0       1\n",
      "12.0        1\n",
      "11.0        1\n",
      "42.0        1\n",
      "32.0        1\n",
      "Name: bedroomCount, dtype: int64\n",
      "INSTALLED             3119\n",
      "SEMI_EQUIPPED         1194\n",
      "NOT_INSTALLED          644\n",
      "HYPER_EQUIPPED         502\n",
      "USA_INSTALLED          177\n",
      "USA_HYPER_EQUIPPED     143\n",
      "USA_SEMI_EQUIPPED       72\n",
      "USA_UNINSTALLED          4\n",
      "Name: kitchen_type, dtype: int64\n",
      "0    9996\n",
      "1     142\n",
      "Name: fireplaceExists, dtype: int64\n",
      "1.0    4803\n",
      "Name: hasTerrace, dtype: int64\n"
     ]
    }
   ],
   "source": [
    "ohe_cols=['type_of_property','bedroomCount','kitchen_type','fireplaceExists','hasTerrace']\n",
    "for column in ohe_cols:\n",
    "\n",
    "    print(data[column].value_counts())"
   ]
  }
 ],
 "metadata": {
  "interpreter": {
   "hash": "2be5faf79681da6f2a61fdfdd5405d65d042280f7fba6178067603e3a2925119"
  },
  "kernelspec": {
   "display_name": "Python 3.10.2 64-bit",
   "language": "python",
   "name": "python3"
  },
  "language_info": {
   "codemirror_mode": {
    "name": "ipython",
    "version": 3
   },
   "file_extension": ".py",
   "mimetype": "text/x-python",
   "name": "python",
   "nbconvert_exporter": "python",
   "pygments_lexer": "ipython3",
   "version": "3.10.2"
  },
  "orig_nbformat": 4
 },
 "nbformat": 4,
 "nbformat_minor": 2
}
