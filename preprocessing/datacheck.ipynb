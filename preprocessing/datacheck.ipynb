{
 "cells": [
  {
   "cell_type": "code",
   "execution_count": 250,
   "metadata": {},
   "outputs": [],
   "source": [
    "import pandas as pd"
   ]
  },
  {
   "cell_type": "code",
   "execution_count": 251,
   "metadata": {},
   "outputs": [
    {
     "data": {
      "text/html": [
       "<div>\n",
       "<style scoped>\n",
       "    .dataframe tbody tr th:only-of-type {\n",
       "        vertical-align: middle;\n",
       "    }\n",
       "\n",
       "    .dataframe tbody tr th {\n",
       "        vertical-align: top;\n",
       "    }\n",
       "\n",
       "    .dataframe thead th {\n",
       "        text-align: right;\n",
       "    }\n",
       "</style>\n",
       "<table border=\"1\" class=\"dataframe\">\n",
       "  <thead>\n",
       "    <tr style=\"text-align: right;\">\n",
       "      <th></th>\n",
       "      <th>price</th>\n",
       "      <th>type_of_property</th>\n",
       "      <th>bedroomCount</th>\n",
       "      <th>land_surface</th>\n",
       "      <th>kitchen_type</th>\n",
       "      <th>fireplaceExists</th>\n",
       "      <th>hasTerrace</th>\n",
       "      <th>terraceSurface</th>\n",
       "      <th>hasGarden</th>\n",
       "      <th>gardenSurface</th>\n",
       "      <th>surface_land_area</th>\n",
       "      <th>netHabitableSurface</th>\n",
       "      <th>facadeCount</th>\n",
       "      <th>hasSwimmingPool</th>\n",
       "      <th>isnewly_built</th>\n",
       "    </tr>\n",
       "  </thead>\n",
       "  <tbody>\n",
       "    <tr>\n",
       "      <th>0</th>\n",
       "      <td>185000.0</td>\n",
       "      <td>HOUSE</td>\n",
       "      <td>3.0</td>\n",
       "      <td>0.0</td>\n",
       "      <td>0</td>\n",
       "      <td>0</td>\n",
       "      <td>1.0</td>\n",
       "      <td>0.0</td>\n",
       "      <td>0</td>\n",
       "      <td>0.0</td>\n",
       "      <td>0.0</td>\n",
       "      <td>115.0</td>\n",
       "      <td>2.0</td>\n",
       "      <td>0.0</td>\n",
       "      <td>1</td>\n",
       "    </tr>\n",
       "    <tr>\n",
       "      <th>1</th>\n",
       "      <td>189000.0</td>\n",
       "      <td>HOUSE</td>\n",
       "      <td>3.0</td>\n",
       "      <td>251.0</td>\n",
       "      <td>USA_INSTALLED</td>\n",
       "      <td>0</td>\n",
       "      <td>1.0</td>\n",
       "      <td>0.0</td>\n",
       "      <td>True</td>\n",
       "      <td>150.0</td>\n",
       "      <td>251.0</td>\n",
       "      <td>158.0</td>\n",
       "      <td>3.0</td>\n",
       "      <td>0.0</td>\n",
       "      <td>1</td>\n",
       "    </tr>\n",
       "    <tr>\n",
       "      <th>2</th>\n",
       "      <td>189900.0</td>\n",
       "      <td>HOUSE</td>\n",
       "      <td>3.0</td>\n",
       "      <td>389.0</td>\n",
       "      <td>0</td>\n",
       "      <td>0</td>\n",
       "      <td>1.0</td>\n",
       "      <td>15.0</td>\n",
       "      <td>True</td>\n",
       "      <td>304.0</td>\n",
       "      <td>389.0</td>\n",
       "      <td>243.0</td>\n",
       "      <td>3.0</td>\n",
       "      <td>0.0</td>\n",
       "      <td>1</td>\n",
       "    </tr>\n",
       "    <tr>\n",
       "      <th>3</th>\n",
       "      <td>194900.0</td>\n",
       "      <td>HOUSE</td>\n",
       "      <td>3.0</td>\n",
       "      <td>414.0</td>\n",
       "      <td>0</td>\n",
       "      <td>0</td>\n",
       "      <td>1.0</td>\n",
       "      <td>15.0</td>\n",
       "      <td>True</td>\n",
       "      <td>329.0</td>\n",
       "      <td>414.0</td>\n",
       "      <td>243.0</td>\n",
       "      <td>4.0</td>\n",
       "      <td>0.0</td>\n",
       "      <td>1</td>\n",
       "    </tr>\n",
       "    <tr>\n",
       "      <th>4</th>\n",
       "      <td>195000.0</td>\n",
       "      <td>HOUSE</td>\n",
       "      <td>3.0</td>\n",
       "      <td>190.0</td>\n",
       "      <td>NOT_INSTALLED</td>\n",
       "      <td>0</td>\n",
       "      <td>1.0</td>\n",
       "      <td>17.0</td>\n",
       "      <td>True</td>\n",
       "      <td>123.0</td>\n",
       "      <td>190.0</td>\n",
       "      <td>180.0</td>\n",
       "      <td>3.0</td>\n",
       "      <td>0.0</td>\n",
       "      <td>1</td>\n",
       "    </tr>\n",
       "    <tr>\n",
       "      <th>5</th>\n",
       "      <td>195000.0</td>\n",
       "      <td>HOUSE</td>\n",
       "      <td>4.0</td>\n",
       "      <td>210.0</td>\n",
       "      <td>0</td>\n",
       "      <td>0</td>\n",
       "      <td>1.0</td>\n",
       "      <td>1.0</td>\n",
       "      <td>True</td>\n",
       "      <td>1.0</td>\n",
       "      <td>210.0</td>\n",
       "      <td>0.0</td>\n",
       "      <td>2.0</td>\n",
       "      <td>0.0</td>\n",
       "      <td>1</td>\n",
       "    </tr>\n",
       "    <tr>\n",
       "      <th>6</th>\n",
       "      <td>195000.0</td>\n",
       "      <td>HOUSE</td>\n",
       "      <td>3.0</td>\n",
       "      <td>35.0</td>\n",
       "      <td>0</td>\n",
       "      <td>0</td>\n",
       "      <td>1.0</td>\n",
       "      <td>1.0</td>\n",
       "      <td>True</td>\n",
       "      <td>1.0</td>\n",
       "      <td>35.0</td>\n",
       "      <td>220.0</td>\n",
       "      <td>3.0</td>\n",
       "      <td>0.0</td>\n",
       "      <td>1</td>\n",
       "    </tr>\n",
       "    <tr>\n",
       "      <th>7</th>\n",
       "      <td>220000.0</td>\n",
       "      <td>HOUSE</td>\n",
       "      <td>2.0</td>\n",
       "      <td>145.0</td>\n",
       "      <td>0</td>\n",
       "      <td>0</td>\n",
       "      <td>1.0</td>\n",
       "      <td>18.0</td>\n",
       "      <td>0</td>\n",
       "      <td>0.0</td>\n",
       "      <td>145.0</td>\n",
       "      <td>118.0</td>\n",
       "      <td>0.0</td>\n",
       "      <td>0.0</td>\n",
       "      <td>1</td>\n",
       "    </tr>\n",
       "    <tr>\n",
       "      <th>8</th>\n",
       "      <td>175000.0</td>\n",
       "      <td>APARTMENT</td>\n",
       "      <td>1.0</td>\n",
       "      <td>0.0</td>\n",
       "      <td>INSTALLED</td>\n",
       "      <td>0</td>\n",
       "      <td>1.0</td>\n",
       "      <td>4.0</td>\n",
       "      <td>0</td>\n",
       "      <td>0.0</td>\n",
       "      <td>0.0</td>\n",
       "      <td>50.0</td>\n",
       "      <td>0.0</td>\n",
       "      <td>0.0</td>\n",
       "      <td>1</td>\n",
       "    </tr>\n",
       "    <tr>\n",
       "      <th>9</th>\n",
       "      <td>180000.0</td>\n",
       "      <td>APARTMENT</td>\n",
       "      <td>2.0</td>\n",
       "      <td>0.0</td>\n",
       "      <td>USA_HYPER_EQUIPPED</td>\n",
       "      <td>0</td>\n",
       "      <td>1.0</td>\n",
       "      <td>5.0</td>\n",
       "      <td>True</td>\n",
       "      <td>2500.0</td>\n",
       "      <td>0.0</td>\n",
       "      <td>100.0</td>\n",
       "      <td>4.0</td>\n",
       "      <td>0.0</td>\n",
       "      <td>1</td>\n",
       "    </tr>\n",
       "  </tbody>\n",
       "</table>\n",
       "</div>"
      ],
      "text/plain": [
       "      price type_of_property  bedroomCount  land_surface        kitchen_type  \\\n",
       "0  185000.0            HOUSE           3.0           0.0                   0   \n",
       "1  189000.0            HOUSE           3.0         251.0       USA_INSTALLED   \n",
       "2  189900.0            HOUSE           3.0         389.0                   0   \n",
       "3  194900.0            HOUSE           3.0         414.0                   0   \n",
       "4  195000.0            HOUSE           3.0         190.0       NOT_INSTALLED   \n",
       "5  195000.0            HOUSE           4.0         210.0                   0   \n",
       "6  195000.0            HOUSE           3.0          35.0                   0   \n",
       "7  220000.0            HOUSE           2.0         145.0                   0   \n",
       "8  175000.0        APARTMENT           1.0           0.0           INSTALLED   \n",
       "9  180000.0        APARTMENT           2.0           0.0  USA_HYPER_EQUIPPED   \n",
       "\n",
       "   fireplaceExists  hasTerrace  terraceSurface hasGarden  gardenSurface  \\\n",
       "0                0         1.0             0.0         0            0.0   \n",
       "1                0         1.0             0.0      True          150.0   \n",
       "2                0         1.0            15.0      True          304.0   \n",
       "3                0         1.0            15.0      True          329.0   \n",
       "4                0         1.0            17.0      True          123.0   \n",
       "5                0         1.0             1.0      True            1.0   \n",
       "6                0         1.0             1.0      True            1.0   \n",
       "7                0         1.0            18.0         0            0.0   \n",
       "8                0         1.0             4.0         0            0.0   \n",
       "9                0         1.0             5.0      True         2500.0   \n",
       "\n",
       "   surface_land_area  netHabitableSurface  facadeCount  hasSwimmingPool  \\\n",
       "0                0.0                115.0          2.0              0.0   \n",
       "1              251.0                158.0          3.0              0.0   \n",
       "2              389.0                243.0          3.0              0.0   \n",
       "3              414.0                243.0          4.0              0.0   \n",
       "4              190.0                180.0          3.0              0.0   \n",
       "5              210.0                  0.0          2.0              0.0   \n",
       "6               35.0                220.0          3.0              0.0   \n",
       "7              145.0                118.0          0.0              0.0   \n",
       "8                0.0                 50.0          0.0              0.0   \n",
       "9                0.0                100.0          4.0              0.0   \n",
       "\n",
       "   isnewly_built  \n",
       "0              1  \n",
       "1              1  \n",
       "2              1  \n",
       "3              1  \n",
       "4              1  \n",
       "5              1  \n",
       "6              1  \n",
       "7              1  \n",
       "8              1  \n",
       "9              1  "
      ]
     },
     "execution_count": 251,
     "metadata": {},
     "output_type": "execute_result"
    }
   ],
   "source": [
    "FILE='final_properties.csv'\n",
    "#FILE='svc1.csv'\n",
    "data=pd.read_csv(FILE,low_memory=False)\n",
    "data.drop(['url','adress','subtype_of_property','id'],inplace=True,axis=1)\n",
    "data=data.fillna(0)\n",
    "\n",
    "data.shape\n",
    "data.head(10)"
   ]
  },
  {
   "cell_type": "code",
   "execution_count": 252,
   "metadata": {},
   "outputs": [
    {
     "data": {
      "text/plain": [
       "(6731, 15)"
      ]
     },
     "execution_count": 252,
     "metadata": {},
     "output_type": "execute_result"
    }
   ],
   "source": [
    "\n",
    "data = data.drop(data[data['bedroomCount'] > 7].index)\n",
    "data = data.drop(data[data['type_of_property'] == 'APARTMENT_GROUP'].index)\n",
    "data = data.drop(data[data['type_of_property'] == 'HOUSE_GROUP'].index)\n",
    "data = data.drop(data[data['bedroomCount'] > 7].index)\n",
    "data = data.drop(data[data['bedroomCount'] == 0].index)\n",
    "data = data.drop(data[data['price'] <= 100000].index)\n",
    "\n",
    "data = data.drop(data[data['netHabitableSurface'] == 0].index)\n",
    "data = data.drop(data[data['netHabitableSurface'] > 600].index)\n",
    "\n",
    "\n",
    "\n",
    "data[\"hasGarden\"].replace({True: 1}, inplace=True)\n",
    "\n",
    "\n",
    "data.shape"
   ]
  },
  {
   "cell_type": "code",
   "execution_count": 253,
   "metadata": {},
   "outputs": [
    {
     "name": "stdout",
     "output_type": "stream",
     "text": [
      "APARTMENT    3531\n",
      "HOUSE        3200\n",
      "Name: type_of_property, dtype: int64\n",
      "2.0    2772\n",
      "3.0    1778\n",
      "1.0    1419\n",
      "4.0     565\n",
      "5.0     158\n",
      "6.0      35\n",
      "7.0       4\n",
      "Name: bedroomCount, dtype: int64\n",
      "INSTALLED             2450\n",
      "0                     2086\n",
      "SEMI_EQUIPPED          983\n",
      "HYPER_EQUIPPED         452\n",
      "NOT_INSTALLED          428\n",
      "USA_INSTALLED          151\n",
      "USA_HYPER_EQUIPPED     117\n",
      "USA_SEMI_EQUIPPED       60\n",
      "USA_UNINSTALLED          4\n",
      "Name: kitchen_type, dtype: int64\n",
      "0    6616\n",
      "1     115\n",
      "Name: fireplaceExists, dtype: int64\n",
      "1.0    3893\n",
      "0.0    2838\n",
      "Name: hasTerrace, dtype: int64\n",
      "0    4966\n",
      "1    1765\n",
      "Name: hasGarden, dtype: int64\n"
     ]
    }
   ],
   "source": [
    "ohe_cols=['type_of_property','bedroomCount','kitchen_type','fireplaceExists','hasTerrace','hasGarden']\n",
    "for column in ohe_cols:\n",
    "\n",
    "    print(data[column].value_counts())"
   ]
  },
  {
   "cell_type": "code",
   "execution_count": 285,
   "metadata": {},
   "outputs": [],
   "source": [
    "data2=data.sort_values(by=['price'])\n",
    "data2.to_csv('datatowork.csv')"
   ]
  },
  {
   "cell_type": "code",
   "execution_count": 320,
   "metadata": {},
   "outputs": [
    {
     "ename": "AttributeError",
     "evalue": "'numpy.ndarray' object has no attribute 'values'",
     "output_type": "error",
     "traceback": [
      "\u001b[1;31m---------------------------------------------------------------------------\u001b[0m",
      "\u001b[1;31mAttributeError\u001b[0m                            Traceback (most recent call last)",
      "\u001b[1;32mc:\\immomodel\\preprocessing\\datacheck.ipynb Cell 6'\u001b[0m in \u001b[0;36m<module>\u001b[1;34m\u001b[0m\n\u001b[0;32m      <a href='vscode-notebook-cell:/c%3A/immomodel/preprocessing/datacheck.ipynb#ch0000005?line=8'>9</a>\u001b[0m data2\u001b[39m=\u001b[39mdata2\u001b[39m.\u001b[39mdrop([\u001b[39m'\u001b[39m\u001b[39mland_surface\u001b[39m\u001b[39m'\u001b[39m,\u001b[39m'\u001b[39m\u001b[39mterraceSurface\u001b[39m\u001b[39m'\u001b[39m,\u001b[39m'\u001b[39m\u001b[39mgardenSurface\u001b[39m\u001b[39m'\u001b[39m,\u001b[39m'\u001b[39m\u001b[39mfacadeCount\u001b[39m\u001b[39m'\u001b[39m],axis\u001b[39m=\u001b[39m\u001b[39m1\u001b[39m)\n\u001b[0;32m     <a href='vscode-notebook-cell:/c%3A/immomodel/preprocessing/datacheck.ipynb#ch0000005?line=9'>10</a>\u001b[0m data2\u001b[39m=\u001b[39mdata2\u001b[39m.\u001b[39mdrop([\u001b[39m'\u001b[39m\u001b[39mprice\u001b[39m\u001b[39m'\u001b[39m],axis\u001b[39m=\u001b[39m\u001b[39m1\u001b[39m)\u001b[39m.\u001b[39mvalues\n\u001b[1;32m---> <a href='vscode-notebook-cell:/c%3A/immomodel/preprocessing/datacheck.ipynb#ch0000005?line=10'>11</a>\u001b[0m X\u001b[39m=\u001b[39mdata2\u001b[39m.\u001b[39;49mvalues\n",
      "\u001b[1;31mAttributeError\u001b[0m: 'numpy.ndarray' object has no attribute 'values'"
     ]
    }
   ],
   "source": [
    "from sklearn.model_selection import ParameterGrid, train_test_split,cross_val_score,cross_validate\n",
    "\n",
    "data2=pd.read_csv('datatowork.csv')\n",
    "data2=pd.get_dummies(data, columns=['kitchen_type'])\n",
    "data2=pd.get_dummies(data2, columns=['type_of_property'])\n",
    "\n",
    "\n",
    "y=data2['price'].values\n",
    "data2=data2.drop(['land_surface','terraceSurface','gardenSurface','facadeCount'],axis=1)\n",
    "X=data2.drop(['price'],axis=1).values\n"
   ]
  },
  {
   "cell_type": "code",
   "execution_count": 319,
   "metadata": {},
   "outputs": [
    {
     "data": {
      "text/plain": [
       "array([[3., 0., 1., ..., 0., 0., 1.],\n",
       "       [3., 0., 1., ..., 0., 0., 1.],\n",
       "       [3., 0., 1., ..., 0., 0., 1.],\n",
       "       ...,\n",
       "       [3., 0., 0., ..., 0., 0., 1.],\n",
       "       [2., 0., 0., ..., 0., 0., 1.],\n",
       "       [4., 0., 0., ..., 0., 0., 1.]])"
      ]
     },
     "execution_count": 319,
     "metadata": {},
     "output_type": "execute_result"
    }
   ],
   "source": []
  },
  {
   "cell_type": "code",
   "execution_count": 287,
   "metadata": {},
   "outputs": [
    {
     "data": {
      "text/plain": [
       "array([[3., 0., 1., ..., 0., 0., 1.],\n",
       "       [3., 0., 1., ..., 0., 0., 1.],\n",
       "       [3., 0., 1., ..., 0., 0., 1.],\n",
       "       ...,\n",
       "       [3., 0., 0., ..., 0., 0., 1.],\n",
       "       [2., 0., 0., ..., 0., 0., 1.],\n",
       "       [4., 0., 0., ..., 0., 0., 1.]])"
      ]
     },
     "execution_count": 287,
     "metadata": {},
     "output_type": "execute_result"
    }
   ],
   "source": [
    "X_train, X_test, y_train, y_test = train_test_split(X, y, test_size=0.20,random_state=0)\n",
    "X\n",
    "\n"
   ]
  },
  {
   "cell_type": "code",
   "execution_count": 315,
   "metadata": {},
   "outputs": [
    {
     "name": "stdout",
     "output_type": "stream",
     "text": [
      "[ 4.28118258e+03  1.65103351e+03  4.85699247e+03  1.71214779e+03\n",
      "  1.89815552e+03  5.61688113e+03  1.26178276e+03  3.45829615e+03\n",
      "  7.30839983e+17  3.92050145e+17  7.64317520e+17  3.89977507e+17\n",
      "  5.58089423e+17  2.06365675e+17  2.32862618e+17  1.40984908e+17\n",
      "  3.73782730e+16 -4.46142395e+17 -4.46142395e+17]\n"
     ]
    }
   ],
   "source": [
    "from sklearn.linear_model import LinearRegression\n",
    "from sklearn.pipeline import make_pipeline\n",
    "from sklearn.preprocessing import OneHotEncoder, StandardScaler\n",
    "regr = make_pipeline(StandardScaler(), LinearRegression())\n",
    "#regr = LinearRegression(normalize=True)\n",
    "regr.fit(X_train, y_train)\n",
    "\n",
    "\n",
    "#print(list(zip(regr['LinearRegression'].coef_, regr['LinearRegression'].feature_names_in_)))\n",
    "\n",
    "\n"
   ]
  },
  {
   "cell_type": "code",
   "execution_count": 318,
   "metadata": {},
   "outputs": [
    {
     "ename": "AttributeError",
     "evalue": "'numpy.ndarray' object has no attribute 'columns'",
     "output_type": "error",
     "traceback": [
      "\u001b[1;31m---------------------------------------------------------------------------\u001b[0m",
      "\u001b[1;31mAttributeError\u001b[0m                            Traceback (most recent call last)",
      "\u001b[1;32mc:\\immomodel\\preprocessing\\datacheck.ipynb Cell 10'\u001b[0m in \u001b[0;36m<module>\u001b[1;34m\u001b[0m\n\u001b[1;32m----> <a href='vscode-notebook-cell:/c%3A/immomodel/preprocessing/datacheck.ipynb#ch0000018?line=0'>1</a>\u001b[0m coef_table \u001b[39m=\u001b[39m pd\u001b[39m.\u001b[39mDataFrame(\u001b[39mlist\u001b[39m(X\u001b[39m.\u001b[39;49mcolumns))\u001b[39m.\u001b[39mcopy()\n\u001b[0;32m      <a href='vscode-notebook-cell:/c%3A/immomodel/preprocessing/datacheck.ipynb#ch0000018?line=3'>4</a>\u001b[0m coef_table\u001b[39m.\u001b[39minsert(\u001b[39mlen\u001b[39m(coef_table\u001b[39m.\u001b[39mcolumns),\u001b[39m\"\u001b[39m\u001b[39mCoefs\u001b[39m\u001b[39m\"\u001b[39m,regr[\u001b[39m1\u001b[39m]\u001b[39m.\u001b[39mcoef_\u001b[39m.\u001b[39mtranspose())\n",
      "\u001b[1;31mAttributeError\u001b[0m: 'numpy.ndarray' object has no attribute 'columns'"
     ]
    }
   ],
   "source": [
    "coef_table = pd.DataFrame(list(X.columns)).copy()\n",
    "\n",
    "\n",
    "coef_table.insert(len(coef_table.columns),\"Coefs\",regr[1].coef_.transpose())\n",
    "\n"
   ]
  },
  {
   "cell_type": "code",
   "execution_count": 291,
   "metadata": {},
   "outputs": [
    {
     "name": "stdout",
     "output_type": "stream",
     "text": [
      "0.12728360452959953\n"
     ]
    }
   ],
   "source": [
    "import sklearn.metrics as metrics\n",
    "print(regr.score(X_test, y_test))\n"
   ]
  },
  {
   "cell_type": "code",
   "execution_count": 281,
   "metadata": {},
   "outputs": [],
   "source": [
    "y_pred = regr.predict(X_test)\n",
    "df = pd.DataFrame({'Actual': y_test, 'Predicted': y_pred})\n",
    "df.to_csv('2.csv')\n",
    "\n"
   ]
  },
  {
   "cell_type": "code",
   "execution_count": 295,
   "metadata": {},
   "outputs": [
    {
     "name": "stdout",
     "output_type": "stream",
     "text": [
      "Mean Absolute Error: 26049.94654788419\n",
      "Mean Squared Error: 1024136041.3170007\n",
      "Root Mean Squared Error: 32002.125574983307\n",
      "R2 Score: 0.12693741695952898\n"
     ]
    }
   ],
   "source": [
    "import numpy as np\n",
    "print('Mean Absolute Error:', metrics.mean_absolute_error(y_test, y_pred))\n",
    "print('Mean Squared Error:', metrics.mean_squared_error(y_test, y_pred))\n",
    "print('Root Mean Squared Error:', np.sqrt(metrics.mean_squared_error(y_test, y_pred)))\n",
    "print('R2 Score:', metrics.r2_score(y_test, y_pred))\n",
    "\n"
   ]
  },
  {
   "cell_type": "code",
   "execution_count": 293,
   "metadata": {},
   "outputs": [
    {
     "name": "stdout",
     "output_type": "stream",
     "text": [
      "193152.11736740454\n"
     ]
    }
   ],
   "source": [
    "print(data2['price'].mean())"
   ]
  },
  {
   "cell_type": "code",
   "execution_count": 296,
   "metadata": {},
   "outputs": [
    {
     "data": {
      "text/plain": [
       "['clf.pkl']"
      ]
     },
     "execution_count": 296,
     "metadata": {},
     "output_type": "execute_result"
    }
   ],
   "source": [
    "import joblib\n",
    "joblib.dump(regr, \"clf.pkl\")"
   ]
  },
  {
   "cell_type": "code",
   "execution_count": 309,
   "metadata": {},
   "outputs": [
    {
     "data": {
      "text/plain": [
       "{'fit_intercept': True,\n",
       " 'normalize': 'deprecated',\n",
       " 'copy_X': True,\n",
       " 'n_jobs': None,\n",
       " 'positive': False,\n",
       " 'n_features_in_': 19,\n",
       " 'coef_': array([ 4.28118258e+03,  1.65103351e+03,  4.85699247e+03,  1.71214779e+03,\n",
       "         1.89815552e+03,  5.61688113e+03,  1.26178276e+03,  3.45829615e+03,\n",
       "         7.30839983e+17,  3.92050145e+17,  7.64317520e+17,  3.89977507e+17,\n",
       "         5.58089423e+17,  2.06365675e+17,  2.32862618e+17,  1.40984908e+17,\n",
       "         3.73782730e+16, -4.46142395e+17, -4.46142395e+17]),\n",
       " '_residues': 5552755417053.944,\n",
       " 'rank_': 19,\n",
       " 'singular_': array([1.39408985e+02, 9.12984134e+01, 8.43453233e+01, 7.95153110e+01,\n",
       "        7.65763961e+01, 7.45674418e+01, 7.40334759e+01, 7.38668879e+01,\n",
       "        7.35871628e+01, 7.33318276e+01, 7.32326330e+01, 7.00385893e+01,\n",
       "        6.77893312e+01, 6.55630504e+01, 6.48077860e+01, 5.41781391e+01,\n",
       "        4.04613268e+01, 5.32680120e-14, 4.08590699e-14]),\n",
       " 'intercept_': 192737.04804622848}"
      ]
     },
     "execution_count": 309,
     "metadata": {},
     "output_type": "execute_result"
    }
   ],
   "source": [
    "regr['linearregression'].__dict__"
   ]
  },
  {
   "cell_type": "code",
   "execution_count": 321,
   "metadata": {},
   "outputs": [
    {
     "data": {
      "text/plain": [
       "array([[3., 0., 1., ..., 0., 0., 1.],\n",
       "       [3., 0., 1., ..., 0., 0., 1.],\n",
       "       [3., 0., 1., ..., 0., 0., 1.],\n",
       "       ...,\n",
       "       [3., 0., 0., ..., 0., 0., 1.],\n",
       "       [2., 0., 0., ..., 0., 0., 1.],\n",
       "       [4., 0., 0., ..., 0., 0., 1.]])"
      ]
     },
     "execution_count": 321,
     "metadata": {},
     "output_type": "execute_result"
    }
   ],
   "source": [
    "data2"
   ]
  }
 ],
 "metadata": {
  "interpreter": {
   "hash": "2be5faf79681da6f2a61fdfdd5405d65d042280f7fba6178067603e3a2925119"
  },
  "kernelspec": {
   "display_name": "Python 3.10.2 64-bit",
   "language": "python",
   "name": "python3"
  },
  "language_info": {
   "codemirror_mode": {
    "name": "ipython",
    "version": 3
   },
   "file_extension": ".py",
   "mimetype": "text/x-python",
   "name": "python",
   "nbconvert_exporter": "python",
   "pygments_lexer": "ipython3",
   "version": "3.10.2"
  },
  "orig_nbformat": 4
 },
 "nbformat": 4,
 "nbformat_minor": 2
}
