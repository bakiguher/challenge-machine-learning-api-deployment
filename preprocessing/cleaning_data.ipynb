{
 "cells": [
  {
   "cell_type": "markdown",
   "metadata": {},
   "source": [
    "Preliminary check of the raw data"
   ]
  },
  {
   "cell_type": "code",
   "execution_count": null,
   "metadata": {},
   "outputs": [],
   "source": [
    "import pandas as pd\n",
    "import numpy as np\n",
    "import matplotlib.pyplot as plt\n",
    "%matplotlib inline\n",
    "import seaborn as sns\n",
    "pd.pandas.set_option('display.max_columns',None)"
   ]
  },
  {
   "cell_type": "code",
   "execution_count": null,
   "metadata": {},
   "outputs": [],
   "source": [
    "dataset=pd.read_csv('02_aptraw.csv',low_memory=False)\n",
    "print(dataset.shape)\n"
   ]
  },
  {
   "cell_type": "markdown",
   "metadata": {},
   "source": [
    "Features with null value"
   ]
  },
  {
   "cell_type": "code",
   "execution_count": null,
   "metadata": {},
   "outputs": [],
   "source": [
    "features_with_na=[features for features in dataset.columns if dataset[features].isnull().sum()>1]\n",
    "## 2- step print the feature name and the percentage of missing values\n",
    "\n",
    "for feature in features_with_na:\n",
    "    print(feature, np.round(dataset[feature].isnull().mean(), 4),  ' % missing values')\n"
   ]
  },
  {
   "cell_type": "markdown",
   "metadata": {},
   "source": [
    "Checking value counts to find ordinal values"
   ]
  },
  {
   "cell_type": "code",
   "execution_count": null,
   "metadata": {},
   "outputs": [],
   "source": [
    "dataset['property.subtype'].value_counts()"
   ]
  },
  {
   "cell_type": "code",
   "execution_count": null,
   "metadata": {},
   "outputs": [],
   "source": [
    "data = dataset[['property.subtype','transaction.sale.price']]\n",
    "result = data.groupby('property.subtype').agg({'transaction.sale.price': ['mean', 'count','min', 'max']})\n",
    "result\n"
   ]
  },
  {
   "cell_type": "code",
   "execution_count": null,
   "metadata": {},
   "outputs": [],
   "source": [
    "for feature in features_with_na:\n",
    "    data = dataset.copy()\n",
    "    \n",
    "    # observation was missing or zero otherwise\n",
    "    data[feature] = np.where(data[feature].isnull(), 1, 0)\n",
    "    \n",
    "    # mean price where the information is missing or present\n",
    "    data.groupby(feature)['price.mainValue'].max().plot.bar()\n",
    "    plt.title(feature)\n",
    "    plt.show()\n"
   ]
  },
  {
   "cell_type": "code",
   "execution_count": null,
   "metadata": {},
   "outputs": [],
   "source": [
    "data.groupby(['flags.isNewlyBuilt'])['price.mainValue'].max().plot.bar()\n",
    "\n",
    "plt.show()"
   ]
  },
  {
   "cell_type": "code",
   "execution_count": null,
   "metadata": {},
   "outputs": [],
   "source": [
    "numerical_features = [feature for feature in dataset.columns if dataset[feature].dtypes != 'O']\n",
    "\n",
    "print('Number of numerical variables: ', len(numerical_features))\n",
    "\n",
    "#  numerical variables\n",
    "dataset[numerical_features].head()\n"
   ]
  },
  {
   "cell_type": "code",
   "execution_count": null,
   "metadata": {},
   "outputs": [],
   "source": [
    "categorical_features=[feature for feature in dataset.columns if data[feature].dtypes=='O']\n",
    "categorical_features\n"
   ]
  },
  {
   "cell_type": "code",
   "execution_count": null,
   "metadata": {},
   "outputs": [],
   "source": [
    "for feature in categorical_features:\n",
    "    print('The feature is {} and number of categories are {}'.format(feature,len(dataset[feature].unique())))\n"
   ]
  },
  {
   "cell_type": "code",
   "execution_count": null,
   "metadata": {},
   "outputs": [],
   "source": [
    "for feature in categorical_features:\n",
    "    data=dataset.copy()\n",
    "    data.groupby(feature)['transaction.sale.price'].median().plot.bar()\n",
    "    plt.xlabel(feature)\n",
    "    plt.ylabel('transaction.sale.price')\n",
    "    plt.title(feature)\n",
    "    plt.show()\n"
   ]
  },
  {
   "cell_type": "code",
   "execution_count": null,
   "metadata": {},
   "outputs": [],
   "source": [
    "COL_TO_DROP_AFTER_CLEANING=['flags.isPublicSale','flags.isInvestmentProject','property.isHolidayProperty','flags.isNewRealEstateProject','property.type','property.hasLivingRoom',\n",
    "                            \"price.type\",'transaction.investor.isInvestmentProperty','flags.isNotarySale','flags.percentSold','property.location.hasSeaView','property.location.type',\n",
    "                            'property.roomCount','property.netHabitableSurface','property.building.facadeCount','property.building.floorCount','property.building.streetFacadeWidth',\n",
    "                            \n",
    "\n",
    "                            ]\n",
    "df=df.drop(COL_TO_DROP_AFTER_CLEANING,axis=1)"
   ]
  },
  {
   "cell_type": "code",
   "execution_count": null,
   "metadata": {},
   "outputs": [],
   "source": [
    "df.shape"
   ]
  },
  {
   "cell_type": "code",
   "execution_count": null,
   "metadata": {},
   "outputs": [],
   "source": [
    "\n",
    "columns_NON_0_olacaklar=['property.hasDressingRoom','property.hasDiningRoom','property.hasAirConditioning',\n",
    "                        'property.energy.hasHeatPump','property.energy.hasPhotovoltaicPanels','property.energy.hasThermicPanels','property.energy.hasCollectiveWaterHeater',\n",
    "                        'property.energy.hasDoubleGlazing','property.specificities.hasOffice','property.specificities.hasWorkspace','property.hasLaundryRoom','property.parkingCountIndoor',\n",
    "                        'property.parkingCountOutdoor','property.hasCaretakerOrConcierge'\n",
    "                            ]\n",
    "df[columns_NON_0_olacaklar] = df[columns_NON_0_olacaklar].fillna(value=0)\n",
    "\n",
    "\n",
    "columns_NON_1_olacaklar='property.bathroomCount'\n",
    "df[columns_NON_1_olacaklar] = df[columns_NON_1_olacaklar].fillna(1)\n",
    "\n",
    "\n",
    "\n",
    "\n",
    "\n"
   ]
  },
  {
   "cell_type": "code",
   "execution_count": null,
   "metadata": {},
   "outputs": [],
   "source": [
    "columnstofalsetrue01=['flags.isNewlyBuilt','flags.isUnderOption','property.hasGarden','property.hasArmoredDoor','property.hasVisiophone','property.hasSecureAccessAlarm',\n",
    "                'property.hasCableTV','property.hasDoorPhone','property.hasInternet','property.showerRoomCount','property.toiletCount','property.hasSwimmingPool',\n",
    "                'property.hasSauna','property.hasJacuzzi','property.fireplaceExists','property.hasTerrace','property.hasBasement','property.hasDiningRoom',\n",
    "                'property.hasDressingRoom','property.hasAirConditioning','transaction.sale.isSubjectToVat','property.energy.hasHeatPump',\n",
    "                'property.energy.hasPhotovoltaicPanels','property.energy.hasThermicPanels','property.energy.hasCollectiveWaterHeater','property.energy.hasDoubleGlazing',\n",
    "                'property.specificities.hasOffice','property.specificities.hasWorkspace','property.hasLaundryRoom','property.hasCaretakerOrConcierge'\n",
    "                ]\n",
    "\n",
    "\n",
    "\n",
    "\n",
    "df[columnstofalsetrue01] = df[columnstofalsetrue01].replace(True,1)\n",
    "\n",
    "df[columnstofalsetrue01] = df[columnstofalsetrue01].replace(False,0)\n"
   ]
  }
 ],
 "metadata": {
  "interpreter": {
   "hash": "2be5faf79681da6f2a61fdfdd5405d65d042280f7fba6178067603e3a2925119"
  },
  "kernelspec": {
   "display_name": "Python 3.10.2 64-bit",
   "language": "python",
   "name": "python3"
  },
  "language_info": {
   "codemirror_mode": {
    "name": "ipython",
    "version": 3
   },
   "file_extension": ".py",
   "mimetype": "text/x-python",
   "name": "python",
   "nbconvert_exporter": "python",
   "pygments_lexer": "ipython3",
   "version": "3.10.2"
  },
  "orig_nbformat": 4
 },
 "nbformat": 4,
 "nbformat_minor": 2
}
