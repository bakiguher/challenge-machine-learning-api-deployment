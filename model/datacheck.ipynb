{
 "cells": [
  {
   "cell_type": "code",
   "execution_count": null,
   "metadata": {},
   "outputs": [],
   "source": [
    "import pandas as pd"
   ]
  },
  {
   "cell_type": "code",
   "execution_count": null,
   "metadata": {},
   "outputs": [],
   "source": [
    "FILE='az.csv'\n",
    "df=pd.read_csv(FILE,low_memory=False)\n",
    "\n",
    "print(df.shape)\n",
    "df.head(2)"
   ]
  },
  {
   "cell_type": "code",
   "execution_count": null,
   "metadata": {},
   "outputs": [],
   "source": [
    "df = df.drop(df[df['property.subtype'] == 'APARTMENT_BLOCK'].index)\n",
    "df.shape\n",
    "df.to_csv('last_clean.csv')"
   ]
  },
  {
   "cell_type": "code",
   "execution_count": null,
   "metadata": {},
   "outputs": [],
   "source": [
    "drop_cols=['transaction.sale.isSubjectToVat','price.mainValue','property.bathroomCount','property.building.constructionYear','property.bedroomCount','property.kitchen.surface',\n",
    "            'property.hasInternet','property.showerRoomCount','property.toiletCount','transaction.certificates.primaryEnergyConsumptionPerSqm',\n",
    "            'property.land.latestUseDesignation','property.land.surface','property.location.region','property.location.province','property.location.district',\n",
    "            'property.location.locality','property.location.postalCode','property.location.street','property.location.number','property.location.box','property.location.latitude',\n",
    "            'property.location.longitude'\n",
    "]\n",
    "cat_cols=['flags.isNewlyBuilt','flags.isUnderOption','property.subtype','property.hasBasement','property.hasDressingRoom','property.hasDiningRoom','property.hasCaretakerOrConcierge',\n",
    "        'property.hasLaundryRoom','property.hasGarden','property.parkingCountIndoor','property.parkingCountOutdoor','property.hasAirConditioning','property.hasArmoredDoor',\n",
    "        'property.hasVisiophone','property.hasSecureAccessAlarm','property.hasCableTV','property.hasDoorPhone','property.hasSwimmingPool','property.hasSauna','property.hasJacuzzi',\n",
    "        'property.fireplaceExists','property.hasTerrace','transaction.certificates.epcScore','property.energy.hasHeatPump','property.energy.hasPhotovoltaicPanels',\n",
    "        'property.energy.hasThermicPanels','property.energy.hasCollectiveWaterHeater','property.energy.hasDoubleGlazing','property.specificities.hasOffice',\n",
    "        'property.specificities.hasWorkspace','property.kitchen.type','property.building.condition'\n",
    "]\n",
    "\n",
    "df = df.drop(drop_cols,axis=1)\n",
    "\n",
    "\n"
   ]
  },
  {
   "cell_type": "code",
   "execution_count": null,
   "metadata": {},
   "outputs": [],
   "source": []
  },
  {
   "cell_type": "code",
   "execution_count": null,
   "metadata": {},
   "outputs": [],
   "source": [
    "\n",
    "#target:\n",
    "#transaction.sale.price\n"
   ]
  },
  {
   "cell_type": "code",
   "execution_count": null,
   "metadata": {},
   "outputs": [],
   "source": [
    "from sklearn.model_selection import ParameterGrid, train_test_split,cross_val_score,cross_validate\n",
    "from sklearn.preprocessing import OneHotEncoder, StandardScaler\n",
    "\n",
    "\n",
    "df = pd.get_dummies(df, columns = cat_cols)\n",
    "\n",
    "y=df['transaction.sale.price'].values\n",
    "X=df.drop(['id','transaction.sale.price'],axis=1).values\n",
    "\n",
    "\n",
    "\n",
    "\n"
   ]
  },
  {
   "cell_type": "code",
   "execution_count": null,
   "metadata": {},
   "outputs": [],
   "source": [
    "X_train, X_test, y_train, y_test = train_test_split(X, y, test_size=0.20,random_state=0)\n",
    "X\n",
    "\n"
   ]
  },
  {
   "cell_type": "code",
   "execution_count": null,
   "metadata": {},
   "outputs": [],
   "source": [
    "from sklearn.linear_model import LinearRegression\n",
    "from sklearn.pipeline import make_pipeline\n",
    "from sklearn.preprocessing import OneHotEncoder, StandardScaler\n",
    "regr = LinearRegression()\n",
    "#regr = LinearRegression(normalize=True)\n",
    "regr.fit(X_train, y_train)\n",
    "\n",
    "\n",
    "#print(list(zip(regr['LinearRegression'].coef_, regr['LinearRegression'].feature_names_in_)))\n",
    "\n",
    "\n"
   ]
  },
  {
   "cell_type": "code",
   "execution_count": null,
   "metadata": {},
   "outputs": [],
   "source": [
    "import sklearn.metrics as metrics\n",
    "print(regr.score(X_test, y_test))\n"
   ]
  },
  {
   "cell_type": "code",
   "execution_count": null,
   "metadata": {},
   "outputs": [],
   "source": [
    "y_pred = regr.predict(X)\n",
    "df = pd.DataFrame({'Actual': y, 'Predicted': y_pred,'id':df['id'].values})\n",
    "df.to_csv('4.csv')\n",
    "\n"
   ]
  },
  {
   "cell_type": "code",
   "execution_count": null,
   "metadata": {},
   "outputs": [],
   "source": [
    "import numpy as np\n",
    "print('Mean Absolute Error:', metrics.mean_absolute_error(y_test, y_pred))\n",
    "print('Mean Squared Error:', metrics.mean_squared_error(y_test, y_pred))\n",
    "print('Root Mean Squared Error:', np.sqrt(metrics.mean_squared_error(y_test, y_pred)))\n",
    "print('R2 Score:', metrics.r2_score(y_test, y_pred))\n",
    "\n",
    "\n"
   ]
  },
  {
   "cell_type": "code",
   "execution_count": null,
   "metadata": {},
   "outputs": [],
   "source": [
    "regr.score(X, y)"
   ]
  },
  {
   "cell_type": "code",
   "execution_count": null,
   "metadata": {},
   "outputs": [],
   "source": [
    "print(df['price'].mean())"
   ]
  },
  {
   "cell_type": "code",
   "execution_count": null,
   "metadata": {},
   "outputs": [],
   "source": [
    "import joblib\n",
    "joblib.dump(regr, \"clf.pkl\")"
   ]
  },
  {
   "cell_type": "code",
   "execution_count": null,
   "metadata": {},
   "outputs": [],
   "source": [
    "regr['linearregression'].__dict__"
   ]
  },
  {
   "cell_type": "code",
   "execution_count": null,
   "metadata": {},
   "outputs": [],
   "source": [
    "data2"
   ]
  }
 ],
 "metadata": {
  "interpreter": {
   "hash": "2be5faf79681da6f2a61fdfdd5405d65d042280f7fba6178067603e3a2925119"
  },
  "kernelspec": {
   "display_name": "Python 3.10.2 64-bit",
   "language": "python",
   "name": "python3"
  },
  "language_info": {
   "codemirror_mode": {
    "name": "ipython",
    "version": 3
   },
   "file_extension": ".py",
   "mimetype": "text/x-python",
   "name": "python",
   "nbconvert_exporter": "python",
   "pygments_lexer": "ipython3",
   "version": "3.10.2"
  },
  "orig_nbformat": 4
 },
 "nbformat": 4,
 "nbformat_minor": 2
}
