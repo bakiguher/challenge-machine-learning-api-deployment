{
 "cells": [
  {
   "cell_type": "markdown",
   "metadata": {},
   "source": [
    "PREDICTING HOUSE PRICES IN BELGIUM"
   ]
  },
  {
   "cell_type": "code",
   "execution_count": null,
   "metadata": {},
   "outputs": [],
   "source": [
    "import pandas as pd\n",
    "import numpy as np\n",
    "import matplotlib.pyplot as plt\n",
    "import seaborn as sns"
   ]
  },
  {
   "cell_type": "markdown",
   "metadata": {},
   "source": [
    "*COLUMNS TO USE* IMPORT CLEANED DATASET"
   ]
  },
  {
   "cell_type": "code",
   "execution_count": null,
   "metadata": {},
   "outputs": [],
   "source": [
    "\n",
    "columns_to_use=['id','transaction.sale.price','flags.isNewlyBuilt','property.subtype','property.bedroomCount','property.bathroomCount','property.netHabitableSurface','property.hasBasement',\n",
    "                'property.hasDressingRoom','property.building.condition','property.building.constructionYear','property.hasCaretakerOrConcierge','property.hasDisabledAccess',\n",
    "                'property.hasLift','property.kitchen.type','property.land.surface','property.hasLaundryRoom','property.hasGarden','property.parkingCountIndoor',\n",
    "                'property.parkingCountOutdoor','property.hasAirConditioning','property.hasArmoredDoor','property.hasVisiophone','property.hasSecureAccessAlarm',\n",
    "                'property.hasCableTV','property.hasDoorPhone','property.showerRoomCount','property.toiletCount','property.hasSwimmingPool','property.hasSauna',\n",
    "                'property.hasJacuzzi','property.fireplaceExists','property.hasTerrace','transaction.certificates.epcScore','property.energy.hasHeatPump',\n",
    "                'property.energy.hasPhotovoltaicPanels','property.energy.hasThermicPanels','property.energy.hasCollectiveWaterHeater','property.energy.hasDoubleGlazing',\n",
    "                'property.livingRoom.surface'\n",
    "\n",
    "                ]\n",
    "FILE='05_cleaned.csv'\n",
    "#FILE='predfix.csv'\n",
    "df=pd.read_csv(FILE,low_memory=False,usecols=columns_to_use) \n",
    "df.shape"
   ]
  },
  {
   "cell_type": "markdown",
   "metadata": {},
   "source": [
    "*BOOL & CATEGORY & NUM & ORDINAL FEATURES *"
   ]
  },
  {
   "cell_type": "code",
   "execution_count": null,
   "metadata": {},
   "outputs": [],
   "source": [
    "bool_features=['flags.isNewlyBuilt','property.hasBasement','property.hasDressingRoom','property.hasCaretakerOrConcierge','property.hasDisabledAccess','property.hasLift',\n",
    "            'property.constructionPermit.hasPlotDivisionAuthorization','property.constructionPermit.hasPossiblePriorityPurchaseRight','property.land.hasPlotToRear',\n",
    "            'property.land.isFlat','property.land.isWooded','property.hasLaundryRoom','property.hasGarden','property.parkingCountIndoor','property.parkingCountOutdoor',\n",
    "            'property.hasAirConditioning','property.hasArmoredDoor','property.hasVisiophone','property.hasSecureAccessAlarm','property.hasCableTV','property.hasDoorPhone',\n",
    "            'property.hasSwimmingPool','property.hasSauna','property.hasJacuzzi','property.fireplaceExists','property.hasTerrace','transaction.sale.isSubjectToVat',\n",
    "            'property.energy.hasHeatPump','property.energy.hasPhotovoltaicPanels','property.energy.hasThermicPanels','property.energy.hasCollectiveWaterHeater',\n",
    "            'property.energy.hasDoubleGlazing','transaction.investor.isInvestmentProperty'\n",
    "]\n",
    "\n",
    "\n",
    "ord_features=['property.subtype','property.building.condition','property.kitchen.type','transaction.certificates.epcScore']\n",
    "\n",
    "imp_features=['flags.isNewlyBuilt','property.bedroomCount','property.bathroomCount','property.netHabitableSurface','property.hasCaretakerOrConcierge',\n",
    "            'property.hasDisabledAccess','property.hasLift','property.hasLaundryRoom','property.hasGarden','property.parkingCountIndoor','property.parkingCountOutdoor',\n",
    "            'property.hasSwimmingPool','property.hasSauna','property.hasJacuzzi','property.fireplaceExists','property.hasTerrace','property.energy.hasPhotovoltaicPanels',\n",
    "            'property.energy.hasDoubleGlazing','property.livingRoom.surface'\n",
    "\n",
    "]\n",
    "\n",
    "scale_features=['property.bathroomCount','property.netHabitableSurface','property.livingRoom.surface'\n",
    "]\n",
    "\n",
    "\n",
    "df2=df.copy(deep=True)\n",
    "df.shape\n",
    "y=df['transaction.sale.price']\n",
    "df=df.drop(['transaction.sale.price','id'],axis=1)\n"
   ]
  },
  {
   "cell_type": "markdown",
   "metadata": {},
   "source": [
    "*ORDINAL DATA LEVELS*"
   ]
  },
  {
   "cell_type": "code",
   "execution_count": null,
   "metadata": {},
   "outputs": [],
   "source": [
    "\n",
    "ord_subtype=['CHALET','BUNGALOW','TOWN_HOUSE','HOUSE','FARMHOUSE','MIXED_USE_BUILDING','COUNTRY_COTTAGE','MANOR_HOUSE','APARTMENT_BLOCK','VILLA','MANSION','EXCEPTIONAL_PROPERTY','CASTLE']\n",
    "ord_property_building_condition=['TO_RESTORE','TO_RENOVATE','TO_BE_DONE_UP','GOOD','JUST_RENOVATED','AS_NEW'] \n",
    "ord_kitchen_type_ordinal=['NOT_INSTALLED','INSTALLED','USA_INSTALLED', 'SEMI_EQUIPPED', 'USA_SEMI_EQUIPPED', 'HYPER_EQUIPPED', 'USA_HYPER_EQUIPPED']\n",
    "ord_transaction_certificates_epcScore=['G', 'F', 'E','D', 'C', 'B', 'A', 'A+', 'A++'] \n"
   ]
  },
  {
   "cell_type": "markdown",
   "metadata": {},
   "source": [
    "*Encode Categorical Values and create X*"
   ]
  },
  {
   "cell_type": "code",
   "execution_count": null,
   "metadata": {},
   "outputs": [],
   "source": [
    "from sklearn.experimental import enable_iterative_imputer\n",
    "from sklearn.compose import ColumnTransformer\n",
    "from sklearn.pipeline import Pipeline\n",
    "from sklearn.impute import IterativeImputer\n",
    "from sklearn.preprocessing import RobustScaler, OneHotEncoder,OrdinalEncoder\n",
    "\n",
    "ord_pipeline = Pipeline([\n",
    "    ('ordencode', OrdinalEncoder(categories=[ord_subtype,ord_property_building_condition,ord_kitchen_type_ordinal,ord_transaction_certificates_epcScore],\n",
    "                                    handle_unknown='use_encoded_value', unknown_value=np.nan))\n",
    "])\n",
    "\n",
    "imp_pipeline = Pipeline([\n",
    "    ('impute', IterativeImputer())\n",
    "])\n",
    "\n",
    "scale_pipeline = Pipeline([\n",
    "    ('scale', RobustScaler())\n",
    "])\n",
    "\n",
    "preprocess_pipeline = ColumnTransformer([\n",
    "    ('ord', ord_pipeline, ord_features),\n",
    "    ('scale', scale_pipeline, scale_features)\n",
    "    ],remainder='passthrough')  ##remainder is used to get all the columns irrespective of transormation happened or not\n",
    "\n",
    "X = preprocess_pipeline.fit_transform(df)"
   ]
  },
  {
   "cell_type": "markdown",
   "metadata": {},
   "source": [
    "Create the model,\n",
    "Best model is choosen with pycaret"
   ]
  },
  {
   "cell_type": "code",
   "execution_count": null,
   "metadata": {},
   "outputs": [],
   "source": [
    "from sklearn.model_selection import ParameterGrid, train_test_split,cross_val_score,cross_validate\n",
    "from sklearn.preprocessing import OneHotEncoder, StandardScaler\n",
    "from sklearn.compose import make_column_selector, make_column_transformer,ColumnTransformer\n",
    "from sklearn.impute import SimpleImputer\n",
    "from sklearn.pipeline import make_pipeline,Pipeline\n",
    "from sklearn.ensemble import GradientBoostingRegressor\n",
    "from catboost import CatBoostRegressor\n",
    "from sklearn.ensemble import RandomForestRegressor,ExtraTreesRegressor\n",
    "\n",
    "\n",
    "regr=ExtraTreesRegressor(bootstrap=False, ccp_alpha=0.0, \n",
    "                    max_depth=50, max_features=1.0,\n",
    "                    max_samples=None, min_impurity_decrease=0.002,\n",
    "                     min_samples_leaf=2,\n",
    "                    min_samples_split=7, min_weight_fraction_leaf=0.0,\n",
    "                    n_estimators=100, n_jobs=-1, oob_score=False,\n",
    "                    random_state=7733, verbose=0, warm_start=False)\n",
    "\n",
    "\n",
    "X_train, X_test, y_train, y_test = train_test_split(X, y, test_size=0.3, random_state=3)\n",
    "\n",
    "regr.fit(X_train, y_train)\n",
    "print(\"model score: %.3f\" % regr.score(X_test, y_test))\n"
   ]
  },
  {
   "cell_type": "code",
   "execution_count": null,
   "metadata": {},
   "outputs": [],
   "source": [
    "a=list(zip(df.columns,regr.feature_importances_))\n",
    "a=pd.DataFrame(a)\n",
    "a.sort_values(1,ascending=False, inplace=True)\n",
    "a.head\n"
   ]
  },
  {
   "cell_type": "markdown",
   "metadata": {},
   "source": [
    "*GridSearchCv* "
   ]
  },
  {
   "cell_type": "code",
   "execution_count": null,
   "metadata": {},
   "outputs": [],
   "source": [
    "from sklearn.model_selection import GridSearchCV\n",
    "\n",
    "model = CatBoostRegressor()\n",
    "parameters = {'depth' : [6,8,10],\n",
    "              'learning_rate' : [0.01, 0.05, 0.1],\n",
    "              'iterations'    : [30, 50, 100]\n",
    "              }\n",
    "\n",
    "grid = GridSearchCV(estimator=model, param_grid = parameters, cv = 2, n_jobs=-1)\n",
    "grid.fit(X_train, y_train)\n",
    "\n",
    "grid.score(X_test,y_test)#"
   ]
  },
  {
   "cell_type": "code",
   "execution_count": null,
   "metadata": {},
   "outputs": [],
   "source": [
    "grid.best_params_"
   ]
  },
  {
   "cell_type": "code",
   "execution_count": null,
   "metadata": {},
   "outputs": [],
   "source": [
    "pred=regr.predict(X)\n",
    "df2['pred']=pred\n",
    "df2.to_csv(\"predfix.csv\")"
   ]
  },
  {
   "cell_type": "code",
   "execution_count": null,
   "metadata": {},
   "outputs": [],
   "source": [
    "a=pd.DataFrame(X_test)\n",
    "a.info()\n"
   ]
  },
  {
   "cell_type": "markdown",
   "metadata": {},
   "source": [
    "Kfold feature selection and other models test"
   ]
  },
  {
   "cell_type": "code",
   "execution_count": null,
   "metadata": {},
   "outputs": [],
   "source": [
    "from sklearn.linear_model import LinearRegression\n",
    "from sklearn.pipeline import make_pipeline\n",
    "from sklearn.preprocessing import OneHotEncoder, StandardScaler\n",
    "from sklearn.neighbors import KNeighborsRegressor\n",
    "from sklearn.ensemble import GradientBoostingRegressor\n",
    "from sklearn.model_selection import KFold,GridSearchCV\n",
    "\n",
    "\n",
    "#regr = LinearRegression()\n",
    "#regr=KNeighborsRegressor()\n",
    "grid=GradientBoostingRegressor(n_estimators=1000,max_depth=4,min_samples_split=2,learning_rate=0.1,random_state=42) \n",
    "\n",
    "seed = 13\n",
    "kfold = KFold(n_splits=3, shuffle=True, random_state=seed)\n",
    "\n",
    "hp_candidates = [{'n_estimators': [400,1000], 'max_depth': [3,16]}]\n",
    "\n",
    "# Search for best hyperparameters\n",
    "#grid = GridSearchCV(estimator=regr, param_grid=hp_candidates, cv=2, scoring='r2')\n",
    "grid.fit(X_train, y_train)\n",
    "\n",
    "grid.score(X_test,y_test)\n"
   ]
  },
  {
   "cell_type": "code",
   "execution_count": null,
   "metadata": {},
   "outputs": [],
   "source": []
  },
  {
   "cell_type": "code",
   "execution_count": null,
   "metadata": {},
   "outputs": [],
   "source": [
    "\n",
    "from sklearn.linear_model import Ridge\n",
    "ridge = Ridge(alpha = 0.5)\n",
    "ridge.fit(X_train, y_train)\n",
    "ridge.score(X_test, y_test)\n",
    "\n"
   ]
  },
  {
   "cell_type": "code",
   "execution_count": null,
   "metadata": {},
   "outputs": [],
   "source": [
    "from sklearn.linear_model import ElasticNet\n",
    "en = ElasticNet(alpha = 0.01)\n",
    "en.fit(X_train, y_train)\n",
    "en.score(X_test, y_test)"
   ]
  },
  {
   "cell_type": "code",
   "execution_count": null,
   "metadata": {},
   "outputs": [],
   "source": [
    "from sklearn.linear_model import BayesianRidge\n",
    "bayesian = BayesianRidge()\n",
    "bayesian.fit(X_train, y_train)\n",
    "bayesian.score(X_test, y_test)\n",
    "#bayesian.coef_\n"
   ]
  },
  {
   "cell_type": "code",
   "execution_count": null,
   "metadata": {},
   "outputs": [],
   "source": [
    "from sklearn.linear_model import LinearRegression\n",
    "ols = LinearRegression()\n",
    "ols.fit(X_train, y_train)\n",
    "ols.score(X_test, y_test)\n",
    "\n"
   ]
  }
 ],
 "metadata": {
  "interpreter": {
   "hash": "2be5faf79681da6f2a61fdfdd5405d65d042280f7fba6178067603e3a2925119"
  },
  "kernelspec": {
   "display_name": "Python 3.10.2 64-bit",
   "language": "python",
   "name": "python3"
  },
  "language_info": {
   "codemirror_mode": {
    "name": "ipython",
    "version": 3
   },
   "file_extension": ".py",
   "mimetype": "text/x-python",
   "name": "python",
   "nbconvert_exporter": "python",
   "pygments_lexer": "ipython3",
   "version": "3.10.2"
  },
  "orig_nbformat": 4
 },
 "nbformat": 4,
 "nbformat_minor": 2
}
